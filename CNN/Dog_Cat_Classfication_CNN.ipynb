{
  "nbformat": 4,
  "nbformat_minor": 0,
  "metadata": {
    "colab": {
      "name": "Dog_Cat_Classfication_CNN.ipynb",
      "provenance": [],
      "collapsed_sections": [],
      "mount_file_id": "1LtRgjE6wzJgm5M3HOXQFEQ6NNtGOImOA",
      "authorship_tag": "ABX9TyNcFLSYQDy6uTUuWNBeOOeV",
      "include_colab_link": true
    },
    "kernelspec": {
      "name": "python3",
      "display_name": "Python 3"
    },
    "accelerator": "GPU"
  },
  "cells": [
    {
      "cell_type": "markdown",
      "metadata": {
        "id": "view-in-github",
        "colab_type": "text"
      },
      "source": [
        "<a href=\"https://colab.research.google.com/github/amantiwari1/Notebook_List/blob/master/Dog_Cat_Classfication_CNN.ipynb\" target=\"_parent\"><img src=\"https://colab.research.google.com/assets/colab-badge.svg\" alt=\"Open In Colab\"/></a>"
      ]
    },
    {
      "cell_type": "code",
      "metadata": {
        "id": "qUdBVZ3ugr-3",
        "colab_type": "code",
        "colab": {
          "base_uri": "https://localhost:8080/",
          "height": 219
        },
        "outputId": "d2e85ad3-2bee-41f6-dbf4-287cfff103ed"
      },
      "source": [
        "import os \n",
        "os.environ[\"KAGGLE_USERNAME\"] = \"amantiwari78632\"\n",
        "os.environ[\"KAGGLE_KEY\"] = \"1e1da0d143b060ea260287af5ec19d5b\"\n",
        "!kaggle competitions download -c dogs-vs-cats "
      ],
      "execution_count": 2,
      "outputs": [
        {
          "output_type": "stream",
          "text": [
            "Warning: Looks like you're using an outdated API Version, please consider updating (server 1.5.6 / client 1.5.4)\n",
            "Downloading train.zip to /content\n",
            " 95% 515M/543M [00:04<00:00, 130MB/s]\n",
            "100% 543M/543M [00:04<00:00, 133MB/s]\n",
            "Downloading test1.zip to /content\n",
            " 97% 263M/271M [00:02<00:00, 99.3MB/s]\n",
            "100% 271M/271M [00:02<00:00, 103MB/s] \n",
            "Downloading sampleSubmission.csv to /content\n",
            "  0% 0.00/86.8k [00:00<?, ?B/s]\n",
            "100% 86.8k/86.8k [00:00<00:00, 78.0MB/s]\n"
          ],
          "name": "stdout"
        }
      ]
    },
    {
      "cell_type": "code",
      "metadata": {
        "id": "rGuLjjwpg0Ku",
        "colab_type": "code",
        "colab": {}
      },
      "source": [
        "!unzip train.zip\n",
        "!unzip test1.zip\n"
      ],
      "execution_count": 0,
      "outputs": []
    },
    {
      "cell_type": "code",
      "metadata": {
        "id": "KWtEPaR5jfm7",
        "colab_type": "code",
        "colab": {
          "base_uri": "https://localhost:8080/",
          "height": 35
        },
        "outputId": "0d919644-8eec-4b5a-b056-28ef520bafc8"
      },
      "source": [
        "import os\n",
        "import pandas as pd\n",
        "import numpy as np\n",
        "from keras.preprocessing.image import ImageDataGenerator, load_img\n",
        "from sklearn.model_selection import train_test_split "
      ],
      "execution_count": 4,
      "outputs": [
        {
          "output_type": "stream",
          "text": [
            "Using TensorFlow backend.\n"
          ],
          "name": "stderr"
        }
      ]
    },
    {
      "cell_type": "code",
      "metadata": {
        "id": "Kgo39ccLg8ov",
        "colab_type": "code",
        "colab": {}
      },
      "source": [
        "FAST_RUN = False\n",
        "IMAGE_WIDTH = 128\n",
        "IMAGE_HEIGHT = 128\n",
        "IMAGE_SIZE = (IMAGE_WIDTH,IMAGE_HEIGHT)\n",
        "IMAGE_CHANNEL = 3"
      ],
      "execution_count": 0,
      "outputs": []
    },
    {
      "cell_type": "code",
      "metadata": {
        "id": "JIvEKBIChtY1",
        "colab_type": "code",
        "colab": {
          "base_uri": "https://localhost:8080/",
          "height": 206
        },
        "outputId": "b2bc9571-bd78-44d7-a6b0-c6c04e1a8553"
      },
      "source": [
        "filenames = os.listdir(\"/content/train\")\n",
        "category = []\n",
        "for filename in filenames:\n",
        "  name = filename.split(\".\")[0]\n",
        "  if name == \"cat\":\n",
        "    category.append(0)\n",
        "  else:\n",
        "    category.append(1)\n",
        "\n",
        "df = pd.DataFrame({\"filename\":filenames, \"category\":category})\n",
        "\n",
        "df.head()\n"
      ],
      "execution_count": 6,
      "outputs": [
        {
          "output_type": "execute_result",
          "data": {
            "text/html": [
              "<div>\n",
              "<style scoped>\n",
              "    .dataframe tbody tr th:only-of-type {\n",
              "        vertical-align: middle;\n",
              "    }\n",
              "\n",
              "    .dataframe tbody tr th {\n",
              "        vertical-align: top;\n",
              "    }\n",
              "\n",
              "    .dataframe thead th {\n",
              "        text-align: right;\n",
              "    }\n",
              "</style>\n",
              "<table border=\"1\" class=\"dataframe\">\n",
              "  <thead>\n",
              "    <tr style=\"text-align: right;\">\n",
              "      <th></th>\n",
              "      <th>filename</th>\n",
              "      <th>category</th>\n",
              "    </tr>\n",
              "  </thead>\n",
              "  <tbody>\n",
              "    <tr>\n",
              "      <th>0</th>\n",
              "      <td>dog.4883.jpg</td>\n",
              "      <td>1</td>\n",
              "    </tr>\n",
              "    <tr>\n",
              "      <th>1</th>\n",
              "      <td>cat.11230.jpg</td>\n",
              "      <td>0</td>\n",
              "    </tr>\n",
              "    <tr>\n",
              "      <th>2</th>\n",
              "      <td>dog.886.jpg</td>\n",
              "      <td>1</td>\n",
              "    </tr>\n",
              "    <tr>\n",
              "      <th>3</th>\n",
              "      <td>dog.4689.jpg</td>\n",
              "      <td>1</td>\n",
              "    </tr>\n",
              "    <tr>\n",
              "      <th>4</th>\n",
              "      <td>cat.9829.jpg</td>\n",
              "      <td>0</td>\n",
              "    </tr>\n",
              "  </tbody>\n",
              "</table>\n",
              "</div>"
            ],
            "text/plain": [
              "        filename  category\n",
              "0   dog.4883.jpg         1\n",
              "1  cat.11230.jpg         0\n",
              "2    dog.886.jpg         1\n",
              "3   dog.4689.jpg         1\n",
              "4   cat.9829.jpg         0"
            ]
          },
          "metadata": {
            "tags": []
          },
          "execution_count": 6
        }
      ]
    },
    {
      "cell_type": "code",
      "metadata": {
        "id": "r8DQgFu6iYrB",
        "colab_type": "code",
        "colab": {
          "base_uri": "https://localhost:8080/",
          "height": 206
        },
        "outputId": "3c77434b-a414-4907-dd8b-b76bf2e6c3d5"
      },
      "source": [
        "df.tail()"
      ],
      "execution_count": 7,
      "outputs": [
        {
          "output_type": "execute_result",
          "data": {
            "text/html": [
              "<div>\n",
              "<style scoped>\n",
              "    .dataframe tbody tr th:only-of-type {\n",
              "        vertical-align: middle;\n",
              "    }\n",
              "\n",
              "    .dataframe tbody tr th {\n",
              "        vertical-align: top;\n",
              "    }\n",
              "\n",
              "    .dataframe thead th {\n",
              "        text-align: right;\n",
              "    }\n",
              "</style>\n",
              "<table border=\"1\" class=\"dataframe\">\n",
              "  <thead>\n",
              "    <tr style=\"text-align: right;\">\n",
              "      <th></th>\n",
              "      <th>filename</th>\n",
              "      <th>category</th>\n",
              "    </tr>\n",
              "  </thead>\n",
              "  <tbody>\n",
              "    <tr>\n",
              "      <th>24995</th>\n",
              "      <td>cat.3493.jpg</td>\n",
              "      <td>0</td>\n",
              "    </tr>\n",
              "    <tr>\n",
              "      <th>24996</th>\n",
              "      <td>dog.11367.jpg</td>\n",
              "      <td>1</td>\n",
              "    </tr>\n",
              "    <tr>\n",
              "      <th>24997</th>\n",
              "      <td>dog.1361.jpg</td>\n",
              "      <td>1</td>\n",
              "    </tr>\n",
              "    <tr>\n",
              "      <th>24998</th>\n",
              "      <td>cat.4321.jpg</td>\n",
              "      <td>0</td>\n",
              "    </tr>\n",
              "    <tr>\n",
              "      <th>24999</th>\n",
              "      <td>cat.5883.jpg</td>\n",
              "      <td>0</td>\n",
              "    </tr>\n",
              "  </tbody>\n",
              "</table>\n",
              "</div>"
            ],
            "text/plain": [
              "            filename  category\n",
              "24995   cat.3493.jpg         0\n",
              "24996  dog.11367.jpg         1\n",
              "24997   dog.1361.jpg         1\n",
              "24998   cat.4321.jpg         0\n",
              "24999   cat.5883.jpg         0"
            ]
          },
          "metadata": {
            "tags": []
          },
          "execution_count": 7
        }
      ]
    },
    {
      "cell_type": "code",
      "metadata": {
        "id": "CRj7zBUgt8EW",
        "colab_type": "code",
        "colab": {}
      },
      "source": [
        "#!pip install keras==2.3.0"
      ],
      "execution_count": 0,
      "outputs": []
    },
    {
      "cell_type": "code",
      "metadata": {
        "id": "17Bt8jo-kNb6",
        "colab_type": "code",
        "colab": {
          "base_uri": "https://localhost:8080/",
          "height": 746
        },
        "outputId": "4059787a-4945-48be-fbac-db0a5dfd25c3"
      },
      "source": [
        "from keras.models import Sequential\n",
        "from keras.layers import Dense,Conv2D,Flatten,Dropout,BatchNormalization,MaxPooling2D\n",
        "\n",
        "model = Sequential()\n",
        "\n",
        "model.add(Conv2D(32,(3,3), activation=\"relu\", input_shape=(IMAGE_HEIGHT,IMAGE_WIDTH,IMAGE_CHANNEL)))\n",
        "model.add(BatchNormalization())\n",
        "model.add(MaxPooling2D(2,2))\n",
        "model.add(Dropout(0.5))\n",
        "\n",
        "model.add(Conv2D(64,(3,3),activation=\"relu\"))\n",
        "model.add(BatchNormalization())\n",
        "model.add(MaxPooling2D(2,2))\n",
        "model.add(Dropout(0.5))\n",
        "\n",
        "model.add(Conv2D(128,(3,3),activation=\"relu\"))\n",
        "model.add(BatchNormalization())\n",
        "model.add(MaxPooling2D(2,2))\n",
        "model.add(Dropout(0.5))\n",
        "\n",
        "model.add(Flatten())\n",
        "model.add(Dense(512,activation=\"relu\"))\n",
        "model.add(BatchNormalization())\n",
        "model.add(Dense(2,activation=\"softmax\"))\n",
        "\n",
        "model.summary()"
      ],
      "execution_count": 9,
      "outputs": [
        {
          "output_type": "stream",
          "text": [
            "Model: \"sequential_1\"\n",
            "_________________________________________________________________\n",
            "Layer (type)                 Output Shape              Param #   \n",
            "=================================================================\n",
            "conv2d_1 (Conv2D)            (None, 126, 126, 32)      896       \n",
            "_________________________________________________________________\n",
            "batch_normalization_1 (Batch (None, 126, 126, 32)      128       \n",
            "_________________________________________________________________\n",
            "max_pooling2d_1 (MaxPooling2 (None, 63, 63, 32)        0         \n",
            "_________________________________________________________________\n",
            "dropout_1 (Dropout)          (None, 63, 63, 32)        0         \n",
            "_________________________________________________________________\n",
            "conv2d_2 (Conv2D)            (None, 61, 61, 64)        18496     \n",
            "_________________________________________________________________\n",
            "batch_normalization_2 (Batch (None, 61, 61, 64)        256       \n",
            "_________________________________________________________________\n",
            "max_pooling2d_2 (MaxPooling2 (None, 30, 30, 64)        0         \n",
            "_________________________________________________________________\n",
            "dropout_2 (Dropout)          (None, 30, 30, 64)        0         \n",
            "_________________________________________________________________\n",
            "conv2d_3 (Conv2D)            (None, 28, 28, 128)       73856     \n",
            "_________________________________________________________________\n",
            "batch_normalization_3 (Batch (None, 28, 28, 128)       512       \n",
            "_________________________________________________________________\n",
            "max_pooling2d_3 (MaxPooling2 (None, 14, 14, 128)       0         \n",
            "_________________________________________________________________\n",
            "dropout_3 (Dropout)          (None, 14, 14, 128)       0         \n",
            "_________________________________________________________________\n",
            "flatten_1 (Flatten)          (None, 25088)             0         \n",
            "_________________________________________________________________\n",
            "dense_1 (Dense)              (None, 512)               12845568  \n",
            "_________________________________________________________________\n",
            "batch_normalization_4 (Batch (None, 512)               2048      \n",
            "_________________________________________________________________\n",
            "dense_2 (Dense)              (None, 2)                 1026      \n",
            "=================================================================\n",
            "Total params: 12,942,786\n",
            "Trainable params: 12,941,314\n",
            "Non-trainable params: 1,472\n",
            "_________________________________________________________________\n"
          ],
          "name": "stdout"
        }
      ]
    },
    {
      "cell_type": "code",
      "metadata": {
        "id": "vJvBGskwt4Db",
        "colab_type": "code",
        "colab": {}
      },
      "source": [
        "from keras.callbacks import EarlyStopping, ReduceLROnPlateau\n",
        "\n",
        "early = EarlyStopping(patience=10)\n",
        "reduc = ReduceLROnPlateau(monitor=\"val_acc\",patience=2,verbose=1,factor=0.5,min_lr=0.00001)\n",
        "\n",
        "callbacks = [early, reduc]"
      ],
      "execution_count": 0,
      "outputs": []
    },
    {
      "cell_type": "code",
      "metadata": {
        "id": "2XtCe-QDxHUE",
        "colab_type": "code",
        "colab": {
          "base_uri": "https://localhost:8080/",
          "height": 206
        },
        "outputId": "057d2d83-d2f6-4401-e332-58cc801e8d87"
      },
      "source": [
        "df[\"category\"] = df[\"category\"].replace({0:\"cat\",1:\"dog\"})\n",
        "df.head() "
      ],
      "execution_count": 11,
      "outputs": [
        {
          "output_type": "execute_result",
          "data": {
            "text/html": [
              "<div>\n",
              "<style scoped>\n",
              "    .dataframe tbody tr th:only-of-type {\n",
              "        vertical-align: middle;\n",
              "    }\n",
              "\n",
              "    .dataframe tbody tr th {\n",
              "        vertical-align: top;\n",
              "    }\n",
              "\n",
              "    .dataframe thead th {\n",
              "        text-align: right;\n",
              "    }\n",
              "</style>\n",
              "<table border=\"1\" class=\"dataframe\">\n",
              "  <thead>\n",
              "    <tr style=\"text-align: right;\">\n",
              "      <th></th>\n",
              "      <th>filename</th>\n",
              "      <th>category</th>\n",
              "    </tr>\n",
              "  </thead>\n",
              "  <tbody>\n",
              "    <tr>\n",
              "      <th>0</th>\n",
              "      <td>dog.4883.jpg</td>\n",
              "      <td>dog</td>\n",
              "    </tr>\n",
              "    <tr>\n",
              "      <th>1</th>\n",
              "      <td>cat.11230.jpg</td>\n",
              "      <td>cat</td>\n",
              "    </tr>\n",
              "    <tr>\n",
              "      <th>2</th>\n",
              "      <td>dog.886.jpg</td>\n",
              "      <td>dog</td>\n",
              "    </tr>\n",
              "    <tr>\n",
              "      <th>3</th>\n",
              "      <td>dog.4689.jpg</td>\n",
              "      <td>dog</td>\n",
              "    </tr>\n",
              "    <tr>\n",
              "      <th>4</th>\n",
              "      <td>cat.9829.jpg</td>\n",
              "      <td>cat</td>\n",
              "    </tr>\n",
              "  </tbody>\n",
              "</table>\n",
              "</div>"
            ],
            "text/plain": [
              "        filename category\n",
              "0   dog.4883.jpg      dog\n",
              "1  cat.11230.jpg      cat\n",
              "2    dog.886.jpg      dog\n",
              "3   dog.4689.jpg      dog\n",
              "4   cat.9829.jpg      cat"
            ]
          },
          "metadata": {
            "tags": []
          },
          "execution_count": 11
        }
      ]
    },
    {
      "cell_type": "code",
      "metadata": {
        "id": "mwSTiy4wzgqn",
        "colab_type": "code",
        "colab": {}
      },
      "source": [
        "df_train , df_val = train_test_split(df,test_size=0.20,random_state=42)"
      ],
      "execution_count": 0,
      "outputs": []
    },
    {
      "cell_type": "code",
      "metadata": {
        "id": "y72m0M810fBK",
        "colab_type": "code",
        "colab": {}
      },
      "source": [
        "df_train = df_train.reset_index(drop=True)\n",
        "df_val = df_val.reset_index(drop=True)"
      ],
      "execution_count": 0,
      "outputs": []
    },
    {
      "cell_type": "code",
      "metadata": {
        "id": "p8bpPxv11ITJ",
        "colab_type": "code",
        "colab": {}
      },
      "source": [
        "total_train = df_train.shape[0]\n",
        "total_validate = df_val.shape[0]\n",
        "batch_size=15"
      ],
      "execution_count": 0,
      "outputs": []
    },
    {
      "cell_type": "code",
      "metadata": {
        "id": "BV83d6Oi0pKu",
        "colab_type": "code",
        "colab": {
          "base_uri": "https://localhost:8080/",
          "height": 35
        },
        "outputId": "565e9220-5cb0-477f-b754-dcdd4e9ac399"
      },
      "source": [
        "image = ImageDataGenerator(\n",
        "    rotation_range=15,\n",
        "    rescale=1./255,\n",
        "    shear_range=0.1,\n",
        "    zoom_range=0.2,\n",
        "    horizontal_flip=True,\n",
        "    width_shift_range=0.1,\n",
        "    height_shift_range=0.1\n",
        ")\n",
        "\n",
        "train_gen = image.flow_from_dataframe(\n",
        "    df_train,\n",
        "    \"/content/train\",\n",
        "    x_col=\"filename\",\n",
        "    y_col=\"category\",\n",
        "    target_size = IMAGE_SIZE,\n",
        "    class_mode =\"categorical\",\n",
        "    batch_size=batch_size \n",
        ")"
      ],
      "execution_count": 15,
      "outputs": [
        {
          "output_type": "stream",
          "text": [
            "Found 20000 validated image filenames belonging to 2 classes.\n"
          ],
          "name": "stdout"
        }
      ]
    },
    {
      "cell_type": "code",
      "metadata": {
        "id": "vaqozqaU2Gzz",
        "colab_type": "code",
        "colab": {
          "base_uri": "https://localhost:8080/",
          "height": 35
        },
        "outputId": "aa77111f-2911-4766-cfb9-78e4c290a9a9"
      },
      "source": [
        "image1 = ImageDataGenerator(\n",
        "    rescale=1./255\n",
        ")\n",
        "\n",
        "val_gen = image1.flow_from_dataframe(\n",
        "    df_val,\n",
        "    \"/content/train\",\n",
        "    x_col=\"filename\",\n",
        "    y_col=\"category\",\n",
        "    target_size = IMAGE_SIZE,\n",
        "    class_mode =\"categorical\",\n",
        "    batch_size=batch_size \n",
        ")"
      ],
      "execution_count": 16,
      "outputs": [
        {
          "output_type": "stream",
          "text": [
            "Found 5000 validated image filenames belonging to 2 classes.\n"
          ],
          "name": "stdout"
        }
      ]
    },
    {
      "cell_type": "code",
      "metadata": {
        "id": "vBhSLk8Y334x",
        "colab_type": "code",
        "colab": {}
      },
      "source": [
        "model.compile(loss='categorical_crossentropy', optimizer='rmsprop', metrics=['accuracy'])"
      ],
      "execution_count": 0,
      "outputs": []
    },
    {
      "cell_type": "code",
      "metadata": {
        "id": "z8gUIpxs2Tgr",
        "colab_type": "code",
        "colab": {
          "base_uri": "https://localhost:8080/",
          "height": 620
        },
        "outputId": "587a8512-6edb-42b1-9f8a-6a2412d1a204"
      },
      "source": [
        "\n",
        "history = model.fit_generator(train_gen,\n",
        "                    epochs=15,\n",
        "                    validation_data=val_gen,\n",
        "                    validation_steps=total_validate//batch_size,\n",
        "                    steps_per_epoch=total_train//batch_size,\n",
        "                    callbacks=callbacks)"
      ],
      "execution_count": 18,
      "outputs": [
        {
          "output_type": "stream",
          "text": [
            "Epoch 1/15\n",
            "1333/1333 [==============================] - 134s 101ms/step - loss: 0.7099 - accuracy: 0.6187 - val_loss: 0.5822 - val_accuracy: 0.6300\n",
            "Epoch 2/15\n",
            "   2/1333 [..............................] - ETA: 1:24 - loss: 0.6397 - accuracy: 0.5667"
          ],
          "name": "stdout"
        },
        {
          "output_type": "stream",
          "text": [
            "/usr/local/lib/python3.6/dist-packages/keras/callbacks/callbacks.py:1042: RuntimeWarning: Reduce LR on plateau conditioned on metric `val_acc` which is not available. Available metrics are: val_loss,val_accuracy,loss,accuracy,lr\n",
            "  (self.monitor, ','.join(list(logs.keys()))), RuntimeWarning\n"
          ],
          "name": "stderr"
        },
        {
          "output_type": "stream",
          "text": [
            "1333/1333 [==============================] - 129s 97ms/step - loss: 0.5776 - accuracy: 0.6981 - val_loss: 0.8742 - val_accuracy: 0.6989\n",
            "Epoch 3/15\n",
            "1333/1333 [==============================] - 129s 97ms/step - loss: 0.5332 - accuracy: 0.7335 - val_loss: 0.7313 - val_accuracy: 0.6694\n",
            "Epoch 4/15\n",
            "1333/1333 [==============================] - 129s 96ms/step - loss: 0.5027 - accuracy: 0.7518 - val_loss: 0.6021 - val_accuracy: 0.6965\n",
            "Epoch 5/15\n",
            "1333/1333 [==============================] - 130s 97ms/step - loss: 0.4786 - accuracy: 0.7720 - val_loss: 0.3488 - val_accuracy: 0.7673\n",
            "Epoch 6/15\n",
            "1333/1333 [==============================] - 129s 97ms/step - loss: 0.4638 - accuracy: 0.7850 - val_loss: 0.2606 - val_accuracy: 0.8132\n",
            "Epoch 7/15\n",
            "1333/1333 [==============================] - 130s 97ms/step - loss: 0.4492 - accuracy: 0.7913 - val_loss: 0.3355 - val_accuracy: 0.7366\n",
            "Epoch 8/15\n",
            "1333/1333 [==============================] - 129s 97ms/step - loss: 0.4419 - accuracy: 0.7981 - val_loss: 0.4300 - val_accuracy: 0.7713\n",
            "Epoch 9/15\n",
            "1333/1333 [==============================] - 129s 97ms/step - loss: 0.4299 - accuracy: 0.7990 - val_loss: 0.3453 - val_accuracy: 0.8359\n",
            "Epoch 10/15\n",
            "1333/1333 [==============================] - 129s 97ms/step - loss: 0.4259 - accuracy: 0.8046 - val_loss: 0.4249 - val_accuracy: 0.8287\n",
            "Epoch 11/15\n",
            "1333/1333 [==============================] - 130s 97ms/step - loss: 0.4156 - accuracy: 0.8118 - val_loss: 0.4078 - val_accuracy: 0.8114\n",
            "Epoch 12/15\n",
            "1333/1333 [==============================] - 131s 99ms/step - loss: 0.4177 - accuracy: 0.8109 - val_loss: 0.9736 - val_accuracy: 0.7976\n",
            "Epoch 13/15\n",
            "1333/1333 [==============================] - 129s 97ms/step - loss: 0.4062 - accuracy: 0.8196 - val_loss: 0.5689 - val_accuracy: 0.8343\n",
            "Epoch 14/15\n",
            "1333/1333 [==============================] - 130s 97ms/step - loss: 0.3995 - accuracy: 0.8213 - val_loss: 0.3218 - val_accuracy: 0.8048\n",
            "Epoch 15/15\n",
            "1333/1333 [==============================] - 128s 96ms/step - loss: 0.3959 - accuracy: 0.8187 - val_loss: 0.3551 - val_accuracy: 0.8000\n"
          ],
          "name": "stdout"
        }
      ]
    },
    {
      "cell_type": "code",
      "metadata": {
        "id": "xY2dlRRI3j9L",
        "colab_type": "code",
        "colab": {}
      },
      "source": [
        "model.save(\"/content/drive/My Drive/BCA/cnn.h5\")"
      ],
      "execution_count": 0,
      "outputs": []
    },
    {
      "cell_type": "code",
      "metadata": {
        "id": "uB683G9hTsIo",
        "colab_type": "code",
        "colab": {
          "base_uri": "https://localhost:8080/",
          "height": 683
        },
        "outputId": "6e1d71e5-40ab-4b09-c717-68f249d9f5a7"
      },
      "source": [
        "import matplotlib.pyplot as plt\n",
        "\n",
        "fig, (ax1, ax2) = plt.subplots(2, 1, figsize=(12, 12))\n",
        "ax1.plot(history.history['loss'], color='b', label=\"Training loss\")\n",
        "ax1.plot(history.history['val_loss'], color='r', label=\"validation loss\")\n",
        "ax1.set_xticks(np.arange(1, 15, 1))\n",
        "ax1.set_yticks(np.arange(0, 1, 0.1))\n",
        "\n",
        "ax2.plot(history.history['accuracy'], color='b', label=\"Training accuracy\")\n",
        "ax2.plot(history.history['val_accuracy'], color='r',label=\"Validation accuracy\")\n",
        "ax2.set_xticks(np.arange(1, 15, 1))\n",
        "\n",
        "legend = plt.legend(loc='best', shadow=True)\n",
        "plt.tight_layout()\n",
        "plt.show()"
      ],
      "execution_count": 24,
      "outputs": [
        {
          "output_type": "display_data",
          "data": {
            "image/png": "[encoded data removed]",
            "text/plain": [
              "<Figure size 864x864 with 2 Axes>"
            ]
          },
          "metadata": {
            "tags": []
          }
        }
      ]
    },
    {
      "cell_type": "code",
      "metadata": {
        "id": "yQ16nM7bcNVx",
        "colab_type": "code",
        "colab": {}
      },
      "source": [
        ""
      ],
      "execution_count": 0,
      "outputs": []
    }
  ]
}