{
  "nbformat": 4,
  "nbformat_minor": 0,
  "metadata": {
    "colab": {
      "name": "Covid_Data_Analysis.ipynb",
      "provenance": [],
      "authorship_tag": "ABX9TyN5QqILEdK3ijF3ed+I/rAs",
      "include_colab_link": true
    },
    "kernelspec": {
      "name": "python3",
      "display_name": "Python 3"
    }
  },
  "cells": [
    {
      "cell_type": "markdown",
      "metadata": {
        "id": "view-in-github",
        "colab_type": "text"
      },
      "source": [
        "<a href=\"https://colab.research.google.com/github/amantiwari1/Notebook_List/blob/master/Covid_Data_Analysis.ipynb\" target=\"_parent\"><img src=\"https://colab.research.google.com/assets/colab-badge.svg\" alt=\"Open In Colab\"/></a>"
      ]
    },
    {
      "cell_type": "code",
      "metadata": {
        "id": "LvykCn4Puefw",
        "colab_type": "code",
        "colab": {}
      },
      "source": [
        "import pandas as pd\n",
        "Confirmed = pd.read_csv(\"https://raw.githubusercontent.com/CSSEGISandData/COVID-19/master/csse_covid_19_data/csse_covid_19_time_series/time_series_covid19_confirmed_global.csv\")\n",
        "Death = pd.read_csv(\"https://github.com/CSSEGISandData/COVID-19/raw/master/csse_covid_19_data/csse_covid_19_time_series/time_series_covid19_deaths_global.csv\")\n",
        "Recovered = pd.read_csv(\"https://github.com/CSSEGISandData/COVID-19/raw/master/csse_covid_19_data/csse_covid_19_time_series/time_series_covid19_recovered_global.csv\")"
      ],
      "execution_count": 0,
      "outputs": []
    },
    {
      "cell_type": "code",
      "metadata": {
        "id": "Frvid7PYv07x",
        "colab_type": "code",
        "colab": {}
      },
      "source": [
        "Confirmed_date = pd.DataFrame(Confirmed.sum()[2:])\n",
        "Death_date = pd.DataFrame(Death.sum()[2:])\n",
        "Recovered_date = pd.DataFrame(Recovered.sum()[2:])\n"
      ],
      "execution_count": 0,
      "outputs": []
    },
    {
      "cell_type": "code",
      "metadata": {
        "id": "rdjgdynozb8I",
        "colab_type": "code",
        "colab": {}
      },
      "source": [
        "Confirmed_date = Confirmed_date.reset_index()\n",
        "Death_date = Death_date.reset_index()\n",
        "Recovered_date = Recovered_date.reset_index()\n",
        "\n",
        "Confirmed_date.columns = [\"Date\", \"Total_Confirmed\"]\n",
        "Death_date.columns = [\"Date\", \"Total_Death\"]\n",
        "Recovered_date.columns = [\"Date\", \"Total_Recovered\"]"
      ],
      "execution_count": 0,
      "outputs": []
    },
    {
      "cell_type": "code",
      "metadata": {
        "id": "plMG9zpnzylU",
        "colab_type": "code",
        "colab": {}
      },
      "source": [
        "df = pd.merge(Confirmed_date,Death_date, on=\"Date\")\n",
        "df = pd.merge(df,Recovered_date, on=\"Date\")\n"
      ],
      "execution_count": 0,
      "outputs": []
    },
    {
      "cell_type": "code",
      "metadata": {
        "id": "76aBtOLb0dlh",
        "colab_type": "code",
        "outputId": "cef8266b-e4dc-4d60-ad8f-9235c29a4560",
        "colab": {
          "base_uri": "https://localhost:8080/",
          "height": 206
        }
      },
      "source": [
        "df.head()"
      ],
      "execution_count": 5,
      "outputs": [
        {
          "output_type": "execute_result",
          "data": {
            "text/html": [
              "<div>\n",
              "<style scoped>\n",
              "    .dataframe tbody tr th:only-of-type {\n",
              "        vertical-align: middle;\n",
              "    }\n",
              "\n",
              "    .dataframe tbody tr th {\n",
              "        vertical-align: top;\n",
              "    }\n",
              "\n",
              "    .dataframe thead th {\n",
              "        text-align: right;\n",
              "    }\n",
              "</style>\n",
              "<table border=\"1\" class=\"dataframe\">\n",
              "  <thead>\n",
              "    <tr style=\"text-align: right;\">\n",
              "      <th></th>\n",
              "      <th>Date</th>\n",
              "      <th>Total_Confirmed</th>\n",
              "      <th>Total_Death</th>\n",
              "      <th>Total_Recovered</th>\n",
              "    </tr>\n",
              "  </thead>\n",
              "  <tbody>\n",
              "    <tr>\n",
              "      <th>0</th>\n",
              "      <td>Long</td>\n",
              "      <td>5928.66</td>\n",
              "      <td>5928.66</td>\n",
              "      <td>7059.94</td>\n",
              "    </tr>\n",
              "    <tr>\n",
              "      <th>1</th>\n",
              "      <td>1/22/20</td>\n",
              "      <td>555</td>\n",
              "      <td>17</td>\n",
              "      <td>28</td>\n",
              "    </tr>\n",
              "    <tr>\n",
              "      <th>2</th>\n",
              "      <td>1/23/20</td>\n",
              "      <td>654</td>\n",
              "      <td>18</td>\n",
              "      <td>30</td>\n",
              "    </tr>\n",
              "    <tr>\n",
              "      <th>3</th>\n",
              "      <td>1/24/20</td>\n",
              "      <td>941</td>\n",
              "      <td>26</td>\n",
              "      <td>36</td>\n",
              "    </tr>\n",
              "    <tr>\n",
              "      <th>4</th>\n",
              "      <td>1/25/20</td>\n",
              "      <td>1434</td>\n",
              "      <td>42</td>\n",
              "      <td>39</td>\n",
              "    </tr>\n",
              "  </tbody>\n",
              "</table>\n",
              "</div>"
            ],
            "text/plain": [
              "      Date Total_Confirmed Total_Death Total_Recovered\n",
              "0     Long         5928.66     5928.66         7059.94\n",
              "1  1/22/20             555          17              28\n",
              "2  1/23/20             654          18              30\n",
              "3  1/24/20             941          26              36\n",
              "4  1/25/20            1434          42              39"
            ]
          },
          "metadata": {
            "tags": []
          },
          "execution_count": 5
        }
      ]
    },
    {
      "cell_type": "code",
      "metadata": {
        "id": "c67Qa39rDIT8",
        "colab_type": "code",
        "colab": {}
      },
      "source": [
        "date = df[\"Date\"]\n",
        "confirmed = df[\"Total_Confirmed\"]\n",
        "death = df[\"Total_Death\"]\n",
        "recovered = df[\"Total_Recovered\"]\n"
      ],
      "execution_count": 0,
      "outputs": []
    },
    {
      "cell_type": "code",
      "metadata": {
        "id": "vN-LElzBs-as",
        "colab_type": "code",
        "colab": {}
      },
      "source": [
        "df = df.set_index(\"Date\")"
      ],
      "execution_count": 0,
      "outputs": []
    },
    {
      "cell_type": "code",
      "metadata": {
        "id": "EHvw0La7tKAh",
        "colab_type": "code",
        "colab": {
          "base_uri": "https://localhost:8080/",
          "height": 388
        },
        "outputId": "4279d2f4-ca11-401d-c8eb-25516cb03b1d"
      },
      "source": [
        "\n",
        "import matplotlib.pyplot as plt\n",
        "fig, ax = plt.subplots(figsize=(20,6))\n",
        "\n",
        "df.plot(marker=\"o\",ax=ax)\n",
        "plt.show()"
      ],
      "execution_count": 16,
      "outputs": [
        {
          "output_type": "display_data",
          "data": {
            "image/png": "[encoded data removed]",
            "text/plain": [
              "<Figure size 1440x432 with 1 Axes>"
            ]
          },
          "metadata": {
            "tags": []
          }
        }
      ]
    },
    {
      "cell_type": "code",
      "metadata": {
        "id": "7N20T-mT28FT",
        "colab_type": "code",
        "colab": {}
      },
      "source": [
        ""
      ],
      "execution_count": 0,
      "outputs": []
    }
  ]
}