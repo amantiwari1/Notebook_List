{
  "nbformat": 4,
  "nbformat_minor": 0,
  "metadata": {
    "colab": {
      "name": "Web Scrabing in covid.ipynb",
      "provenance": [],
      "authorship_tag": "ABX9TyP5U+EN0cQkhf8rvKzP3joy",
      "include_colab_link": true
    },
    "kernelspec": {
      "name": "python3",
      "display_name": "Python 3"
    }
  },
  "cells": [
    {
      "cell_type": "markdown",
      "metadata": {
        "id": "view-in-github",
        "colab_type": "text"
      },
      "source": [
        "<a href=\"https://colab.research.google.com/github/amantiwari1/Notebook_List/blob/master/Web_Scrabing_in_covid.ipynb\" target=\"_parent\"><img src=\"https://colab.research.google.com/assets/colab-badge.svg\" alt=\"Open In Colab\"/></a>"
      ]
    },
    {
      "cell_type": "code",
      "metadata": {
        "id": "1iK7tm9W_cpo",
        "colab_type": "code",
        "colab": {}
      },
      "source": [
        "import requests\n",
        "from scrapy import Selector\n",
        "\n",
        "data = requests.get(\"https://www.worldometers.info/coronavirus/\").content\n",
        "sel = Selector(text = data)\n",
        "num_of_case = sel.css(\"#main_table_countries_today > tbody:nth-child(2) > tr > td:nth-child(2)::text\").extract()\n",
        "name_of_con = sel.css(\"#main_table_countries_today > tbody:nth-child(2) > tr >  td:nth-child(1) ::text\").extract()\n",
        "total_active = sel.css(\"#main_table_countries_today > tbody:nth-child(2) > tr >  td:nth-child(7) ::text\").extract()\n",
        "start_date = sel.css(\"#main_table_countries_today > tbody:nth-child(2) > tr >  td:nth-child(11) ::text\").extract()\n"
      ],
      "execution_count": 0,
      "outputs": []
    },
    {
      "cell_type": "code",
      "metadata": {
        "id": "o1_JMG4dRS9Y",
        "colab_type": "code",
        "colab": {}
      },
      "source": [
        "data_dict = {\"Country\":name_of_con,\n",
        "             \"Confirmed_Case\":num_of_case,\n",
        "             \"total_active\":total_active,\n",
        "             \"start_date\":start_date}"
      ],
      "execution_count": 0,
      "outputs": []
    },
    {
      "cell_type": "code",
      "metadata": {
        "id": "daR8yniijf_y",
        "colab_type": "code",
        "colab": {
          "base_uri": "https://localhost:8080/",
          "height": 206
        },
        "outputId": "449bc351-5ba9-4d57-8c54-7fb5240cea49"
      },
      "source": [
        "import pandas as pd\n",
        "\n",
        "df = pd.DataFrame(data_dict)\n",
        "df.head()"
      ],
      "execution_count": 32,
      "outputs": [
        {
          "output_type": "execute_result",
          "data": {
            "text/html": [
              "<div>\n",
              "<style scoped>\n",
              "    .dataframe tbody tr th:only-of-type {\n",
              "        vertical-align: middle;\n",
              "    }\n",
              "\n",
              "    .dataframe tbody tr th {\n",
              "        vertical-align: top;\n",
              "    }\n",
              "\n",
              "    .dataframe thead th {\n",
              "        text-align: right;\n",
              "    }\n",
              "</style>\n",
              "<table border=\"1\" class=\"dataframe\">\n",
              "  <thead>\n",
              "    <tr style=\"text-align: right;\">\n",
              "      <th></th>\n",
              "      <th>Country</th>\n",
              "      <th>Confirmed_Case</th>\n",
              "      <th>total_active</th>\n",
              "      <th>start_date</th>\n",
              "    </tr>\n",
              "  </thead>\n",
              "  <tbody>\n",
              "    <tr>\n",
              "      <th>0</th>\n",
              "      <td>USA</td>\n",
              "      <td>142,735</td>\n",
              "      <td>135,684</td>\n",
              "      <td>\\nJan 20</td>\n",
              "    </tr>\n",
              "    <tr>\n",
              "      <th>1</th>\n",
              "      <td>Italy</td>\n",
              "      <td>97,689</td>\n",
              "      <td>73,880</td>\n",
              "      <td>\\nJan 29</td>\n",
              "    </tr>\n",
              "    <tr>\n",
              "      <th>2</th>\n",
              "      <td>Spain</td>\n",
              "      <td>80,110</td>\n",
              "      <td>58,598</td>\n",
              "      <td>\\nJan 30</td>\n",
              "    </tr>\n",
              "    <tr>\n",
              "      <th>3</th>\n",
              "      <td>Germany</td>\n",
              "      <td>62,435</td>\n",
              "      <td>52,683</td>\n",
              "      <td>\\nJan 26</td>\n",
              "    </tr>\n",
              "    <tr>\n",
              "      <th>4</th>\n",
              "      <td>France</td>\n",
              "      <td>40,174</td>\n",
              "      <td>30,366</td>\n",
              "      <td>\\nJan 23</td>\n",
              "    </tr>\n",
              "  </tbody>\n",
              "</table>\n",
              "</div>"
            ],
            "text/plain": [
              "   Country Confirmed_Case total_active start_date\n",
              "0      USA        142,735      135,684  \\nJan 20 \n",
              "1    Italy         97,689       73,880  \\nJan 29 \n",
              "2    Spain         80,110       58,598  \\nJan 30 \n",
              "3  Germany         62,435       52,683  \\nJan 26 \n",
              "4   France         40,174       30,366  \\nJan 23 "
            ]
          },
          "metadata": {
            "tags": []
          },
          "execution_count": 32
        }
      ]
    },
    {
      "cell_type": "code",
      "metadata": {
        "id": "GUoxQjXTWhR3",
        "colab_type": "code",
        "colab": {
          "base_uri": "https://localhost:8080/",
          "height": 206
        },
        "outputId": "b5dd530c-fd6d-4b96-c4cd-640d8413a9f0"
      },
      "source": [
        "df[\"Confirmed_Case\"] = df[\"Confirmed_Case\"].str.replace(\",\",\"\").astype(\"int64\")\n",
        "df[\"total_active\"] = df[\"total_active\"].str.replace(\",\",\"\").astype(\"int64\")\n",
        "df[\"start_date\"] = df[\"start_date\"].str.replace(\"\\n\",\"\")\n",
        "df[\"Closed_Case\"] = df[\"Confirmed_Case\"] - df[\"total_active\"]\n",
        "df.head()"
      ],
      "execution_count": 33,
      "outputs": [
        {
          "output_type": "execute_result",
          "data": {
            "text/html": [
              "<div>\n",
              "<style scoped>\n",
              "    .dataframe tbody tr th:only-of-type {\n",
              "        vertical-align: middle;\n",
              "    }\n",
              "\n",
              "    .dataframe tbody tr th {\n",
              "        vertical-align: top;\n",
              "    }\n",
              "\n",
              "    .dataframe thead th {\n",
              "        text-align: right;\n",
              "    }\n",
              "</style>\n",
              "<table border=\"1\" class=\"dataframe\">\n",
              "  <thead>\n",
              "    <tr style=\"text-align: right;\">\n",
              "      <th></th>\n",
              "      <th>Country</th>\n",
              "      <th>Confirmed_Case</th>\n",
              "      <th>total_active</th>\n",
              "      <th>start_date</th>\n",
              "      <th>Closed_Case</th>\n",
              "    </tr>\n",
              "  </thead>\n",
              "  <tbody>\n",
              "    <tr>\n",
              "      <th>0</th>\n",
              "      <td>USA</td>\n",
              "      <td>142735</td>\n",
              "      <td>135684</td>\n",
              "      <td>Jan 20</td>\n",
              "      <td>7051</td>\n",
              "    </tr>\n",
              "    <tr>\n",
              "      <th>1</th>\n",
              "      <td>Italy</td>\n",
              "      <td>97689</td>\n",
              "      <td>73880</td>\n",
              "      <td>Jan 29</td>\n",
              "      <td>23809</td>\n",
              "    </tr>\n",
              "    <tr>\n",
              "      <th>2</th>\n",
              "      <td>Spain</td>\n",
              "      <td>80110</td>\n",
              "      <td>58598</td>\n",
              "      <td>Jan 30</td>\n",
              "      <td>21512</td>\n",
              "    </tr>\n",
              "    <tr>\n",
              "      <th>3</th>\n",
              "      <td>Germany</td>\n",
              "      <td>62435</td>\n",
              "      <td>52683</td>\n",
              "      <td>Jan 26</td>\n",
              "      <td>9752</td>\n",
              "    </tr>\n",
              "    <tr>\n",
              "      <th>4</th>\n",
              "      <td>France</td>\n",
              "      <td>40174</td>\n",
              "      <td>30366</td>\n",
              "      <td>Jan 23</td>\n",
              "      <td>9808</td>\n",
              "    </tr>\n",
              "  </tbody>\n",
              "</table>\n",
              "</div>"
            ],
            "text/plain": [
              "   Country  Confirmed_Case  total_active start_date  Closed_Case\n",
              "0      USA          142735        135684    Jan 20          7051\n",
              "1    Italy           97689         73880    Jan 29         23809\n",
              "2    Spain           80110         58598    Jan 30         21512\n",
              "3  Germany           62435         52683    Jan 26          9752\n",
              "4   France           40174         30366    Jan 23          9808"
            ]
          },
          "metadata": {
            "tags": []
          },
          "execution_count": 33
        }
      ]
    },
    {
      "cell_type": "code",
      "metadata": {
        "id": "U7SaeijPX9Nx",
        "colab_type": "code",
        "colab": {
          "base_uri": "https://localhost:8080/",
          "height": 206
        },
        "outputId": "fbd2eee0-9043-44e0-ee2b-658c7fd04111"
      },
      "source": [
        "df = df.sort_values(by=\"Confirmed_Case\", ascending=False)\n",
        "df.head()"
      ],
      "execution_count": 35,
      "outputs": [
        {
          "output_type": "execute_result",
          "data": {
            "text/html": [
              "<div>\n",
              "<style scoped>\n",
              "    .dataframe tbody tr th:only-of-type {\n",
              "        vertical-align: middle;\n",
              "    }\n",
              "\n",
              "    .dataframe tbody tr th {\n",
              "        vertical-align: top;\n",
              "    }\n",
              "\n",
              "    .dataframe thead th {\n",
              "        text-align: right;\n",
              "    }\n",
              "</style>\n",
              "<table border=\"1\" class=\"dataframe\">\n",
              "  <thead>\n",
              "    <tr style=\"text-align: right;\">\n",
              "      <th></th>\n",
              "      <th>Country</th>\n",
              "      <th>Confirmed_Case</th>\n",
              "      <th>total_active</th>\n",
              "      <th>start_date</th>\n",
              "      <th>Closed_Case</th>\n",
              "    </tr>\n",
              "  </thead>\n",
              "  <tbody>\n",
              "    <tr>\n",
              "      <th>0</th>\n",
              "      <td>USA</td>\n",
              "      <td>142735</td>\n",
              "      <td>135684</td>\n",
              "      <td>Jan 20</td>\n",
              "      <td>7051</td>\n",
              "    </tr>\n",
              "    <tr>\n",
              "      <th>1</th>\n",
              "      <td>Italy</td>\n",
              "      <td>97689</td>\n",
              "      <td>73880</td>\n",
              "      <td>Jan 29</td>\n",
              "      <td>23809</td>\n",
              "    </tr>\n",
              "    <tr>\n",
              "      <th>200</th>\n",
              "      <td>China</td>\n",
              "      <td>81470</td>\n",
              "      <td>2466</td>\n",
              "      <td>Jan 10</td>\n",
              "      <td>79004</td>\n",
              "    </tr>\n",
              "    <tr>\n",
              "      <th>2</th>\n",
              "      <td>Spain</td>\n",
              "      <td>80110</td>\n",
              "      <td>58598</td>\n",
              "      <td>Jan 30</td>\n",
              "      <td>21512</td>\n",
              "    </tr>\n",
              "    <tr>\n",
              "      <th>3</th>\n",
              "      <td>Germany</td>\n",
              "      <td>62435</td>\n",
              "      <td>52683</td>\n",
              "      <td>Jan 26</td>\n",
              "      <td>9752</td>\n",
              "    </tr>\n",
              "  </tbody>\n",
              "</table>\n",
              "</div>"
            ],
            "text/plain": [
              "     Country  Confirmed_Case  total_active start_date  Closed_Case\n",
              "0        USA          142735        135684    Jan 20          7051\n",
              "1      Italy           97689         73880    Jan 29         23809\n",
              "200    China           81470          2466    Jan 10         79004\n",
              "2      Spain           80110         58598    Jan 30         21512\n",
              "3    Germany           62435         52683    Jan 26          9752"
            ]
          },
          "metadata": {
            "tags": []
          },
          "execution_count": 35
        }
      ]
    },
    {
      "cell_type": "code",
      "metadata": {
        "id": "Kaxds3xbjyVB",
        "colab_type": "code",
        "colab": {
          "base_uri": "https://localhost:8080/",
          "height": 206
        },
        "outputId": "2378b0f6-b11a-43b6-ceb8-28b4d6c1e411"
      },
      "source": [
        "df = df.reset_index().drop(\"index\",axis=1)\n",
        "df.head()"
      ],
      "execution_count": 36,
      "outputs": [
        {
          "output_type": "execute_result",
          "data": {
            "text/html": [
              "<div>\n",
              "<style scoped>\n",
              "    .dataframe tbody tr th:only-of-type {\n",
              "        vertical-align: middle;\n",
              "    }\n",
              "\n",
              "    .dataframe tbody tr th {\n",
              "        vertical-align: top;\n",
              "    }\n",
              "\n",
              "    .dataframe thead th {\n",
              "        text-align: right;\n",
              "    }\n",
              "</style>\n",
              "<table border=\"1\" class=\"dataframe\">\n",
              "  <thead>\n",
              "    <tr style=\"text-align: right;\">\n",
              "      <th></th>\n",
              "      <th>Country</th>\n",
              "      <th>Confirmed_Case</th>\n",
              "      <th>total_active</th>\n",
              "      <th>start_date</th>\n",
              "      <th>Closed_Case</th>\n",
              "    </tr>\n",
              "  </thead>\n",
              "  <tbody>\n",
              "    <tr>\n",
              "      <th>0</th>\n",
              "      <td>USA</td>\n",
              "      <td>142735</td>\n",
              "      <td>135684</td>\n",
              "      <td>Jan 20</td>\n",
              "      <td>7051</td>\n",
              "    </tr>\n",
              "    <tr>\n",
              "      <th>1</th>\n",
              "      <td>Italy</td>\n",
              "      <td>97689</td>\n",
              "      <td>73880</td>\n",
              "      <td>Jan 29</td>\n",
              "      <td>23809</td>\n",
              "    </tr>\n",
              "    <tr>\n",
              "      <th>2</th>\n",
              "      <td>China</td>\n",
              "      <td>81470</td>\n",
              "      <td>2466</td>\n",
              "      <td>Jan 10</td>\n",
              "      <td>79004</td>\n",
              "    </tr>\n",
              "    <tr>\n",
              "      <th>3</th>\n",
              "      <td>Spain</td>\n",
              "      <td>80110</td>\n",
              "      <td>58598</td>\n",
              "      <td>Jan 30</td>\n",
              "      <td>21512</td>\n",
              "    </tr>\n",
              "    <tr>\n",
              "      <th>4</th>\n",
              "      <td>Germany</td>\n",
              "      <td>62435</td>\n",
              "      <td>52683</td>\n",
              "      <td>Jan 26</td>\n",
              "      <td>9752</td>\n",
              "    </tr>\n",
              "  </tbody>\n",
              "</table>\n",
              "</div>"
            ],
            "text/plain": [
              "   Country  Confirmed_Case  total_active start_date  Closed_Case\n",
              "0      USA          142735        135684    Jan 20          7051\n",
              "1    Italy           97689         73880    Jan 29         23809\n",
              "2    China           81470          2466    Jan 10         79004\n",
              "3    Spain           80110         58598    Jan 30         21512\n",
              "4  Germany           62435         52683    Jan 26          9752"
            ]
          },
          "metadata": {
            "tags": []
          },
          "execution_count": 36
        }
      ]
    },
    {
      "cell_type": "code",
      "metadata": {
        "id": "9m0qc09FYwxp",
        "colab_type": "code",
        "outputId": "6bfad89d-d7f0-438f-dfd7-5148400ec710",
        "colab": {
          "base_uri": "https://localhost:8080/",
          "height": 330
        }
      },
      "source": [
        "import matplotlib.pyplot as plt\n",
        "\n",
        "import seaborn as sns\n",
        "sns.set_style(style = \"darkgrid\")\n",
        "\n",
        "g = sns.barplot(x=\"Country\", y=\"Confirmed_Case\", data = df[:20])\n",
        "g.set_xticklabels(labels=g.get_xticklabels(), rotation=90)\n",
        "plt.show()\n"
      ],
      "execution_count": 37,
      "outputs": [
        {
          "output_type": "display_data",
          "data": {
            "image/png": "[encoded data removed]",
            "text/plain": [
              "<Figure size 432x288 with 1 Axes>"
            ]
          },
          "metadata": {
            "tags": []
          }
        }
      ]
    },
    {
      "cell_type": "code",
      "metadata": {
        "id": "-OEtmTxhl5QS",
        "colab_type": "code",
        "colab": {
          "base_uri": "https://localhost:8080/",
          "height": 586
        },
        "outputId": "fb58353c-283d-4818-d5d6-91eb0c513bfd"
      },
      "source": [
        "sns.pairplot(df)"
      ],
      "execution_count": 38,
      "outputs": [
        {
          "output_type": "execute_result",
          "data": {
            "text/plain": [
              "<seaborn.axisgrid.PairGrid at 0x7f6e9cd322e8>"
            ]
          },
          "metadata": {
            "tags": []
          },
          "execution_count": 38
        },
        {
          "output_type": "display_data",
          "data": {
            "image/png": "[encoded data removed]",
            "text/plain": [
              "<Figure size 540x540 with 12 Axes>"
            ]
          },
          "metadata": {
            "tags": []
          }
        }
      ]
    },
    {
      "cell_type": "code",
      "metadata": {
        "id": "___zY8Gyl9sa",
        "colab_type": "code",
        "colab": {}
      },
      "source": [
        ""
      ],
      "execution_count": 0,
      "outputs": []
    }
  ]
}