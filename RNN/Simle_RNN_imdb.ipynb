{
  "nbformat": 4,
  "nbformat_minor": 0,
  "metadata": {
    "colab": {
      "name": "Simle_RNN_imdb.ipynb",
      "provenance": [],
      "mount_file_id": "1EgZ8r30P_8YpaHrYNRvmzlGAdmQME8Hz",
      "authorship_tag": "ABX9TyPraSBZ7p4W8YnNtX+/sVGq",
      "include_colab_link": true
    },
    "kernelspec": {
      "name": "python3",
      "display_name": "Python 3"
    }
  },
  "cells": [
    {
      "cell_type": "markdown",
      "metadata": {
        "id": "view-in-github",
        "colab_type": "text"
      },
      "source": [
        "<a href=\"https://colab.research.google.com/github/amantiwari1/Notebook_List/blob/master/Simle_RNN_imdb.ipynb\" target=\"_parent\"><img src=\"https://colab.research.google.com/assets/colab-badge.svg\" alt=\"Open In Colab\"/></a>"
      ]
    },
    {
      "cell_type": "code",
      "metadata": {
        "id": "CaM0p9OLeoS_",
        "colab_type": "code",
        "outputId": "df01a312-870a-4d7c-924b-ff1462975e86",
        "colab": {
          "base_uri": "https://localhost:8080/",
          "height": 36
        }
      },
      "source": [
        "from keras.datasets import imdb\n",
        "from keras.preprocessing.sequence import pad_sequences\n",
        "from keras.layers import Dense, LSTM, Embedding\n",
        "from keras.models import Sequential\n"
      ],
      "execution_count": 0,
      "outputs": [
        {
          "output_type": "stream",
          "text": [
            "Using TensorFlow backend.\n"
          ],
          "name": "stderr"
        }
      ]
    },
    {
      "cell_type": "code",
      "metadata": {
        "id": "AyxYKxkyjo7t",
        "colab_type": "code",
        "outputId": "3f2945fe-c8fa-4de6-9b50-79f77b9f16f4",
        "colab": {
          "base_uri": "https://localhost:8080/",
          "height": 186
        }
      },
      "source": [
        "!pip install keras==2.3.0"
      ],
      "execution_count": 0,
      "outputs": [
        {
          "output_type": "stream",
          "text": [
            "Requirement already satisfied: keras==2.3.0 in /usr/local/lib/python3.6/dist-packages (2.3.0)\n",
            "Requirement already satisfied: numpy>=1.9.1 in /usr/local/lib/python3.6/dist-packages (from keras==2.3.0) (1.18.2)\n",
            "Requirement already satisfied: h5py in /usr/local/lib/python3.6/dist-packages (from keras==2.3.0) (2.10.0)\n",
            "Requirement already satisfied: keras-applications>=1.0.6 in /usr/local/lib/python3.6/dist-packages (from keras==2.3.0) (1.0.8)\n",
            "Requirement already satisfied: six>=1.9.0 in /usr/local/lib/python3.6/dist-packages (from keras==2.3.0) (1.12.0)\n",
            "Requirement already satisfied: keras-preprocessing>=1.0.5 in /usr/local/lib/python3.6/dist-packages (from keras==2.3.0) (1.1.0)\n",
            "Requirement already satisfied: scipy>=0.14 in /usr/local/lib/python3.6/dist-packages (from keras==2.3.0) (1.4.1)\n",
            "Requirement already satisfied: pyyaml in /usr/local/lib/python3.6/dist-packages (from keras==2.3.0) (3.13)\n"
          ],
          "name": "stdout"
        }
      ]
    },
    {
      "cell_type": "code",
      "metadata": {
        "id": "AUTOiOY1fiuV",
        "colab_type": "code",
        "colab": {}
      },
      "source": [
        "(X_train, y_train), (X_test, y_test)= imdb.load_data(num_words=20000)"
      ],
      "execution_count": 0,
      "outputs": []
    },
    {
      "cell_type": "code",
      "metadata": {
        "id": "NU0bksSBfyjI",
        "colab_type": "code",
        "colab": {}
      },
      "source": [
        "X_train = pad_sequences(X_train, maxlen=80)\n",
        "X_test = pad_sequences(X_test,maxlen=80)"
      ],
      "execution_count": 0,
      "outputs": []
    },
    {
      "cell_type": "code",
      "metadata": {
        "id": "u8zjiweJgGOt",
        "colab_type": "code",
        "colab": {}
      },
      "source": [
        "model = Sequential()\n",
        "model.add(Embedding(input_dim=20000, output_dim=128))\n",
        "model.add(LSTM(128, dropout=0.2, recurrent_dropout=0.2))\n",
        "model.add(Dense(1, activation=\"sigmoid\"))\n",
        "\n",
        "model.compile(optimizer=\"adam\", loss=\"binary_crossentropy\", metrics=[\"accuracy\"])"
      ],
      "execution_count": 0,
      "outputs": []
    },
    {
      "cell_type": "code",
      "metadata": {
        "id": "2jBm4geQiI4p",
        "colab_type": "code",
        "outputId": "e2dd77fe-4ecf-4441-ebd5-e9f6c105b949",
        "colab": {
          "base_uri": "https://localhost:8080/",
          "height": 668
        }
      },
      "source": [
        "model.fit(X_train, y_train, batch_size=32, epochs=15, validation_data=(X_test, y_test))\n",
        "\n",
        "score , acc =model.evaluate(X_test, y_test)\n",
        "print(\"Test Score :\", score)\n",
        "print(\"Test Accuracy : \", acc)"
      ],
      "execution_count": 0,
      "outputs": [
        {
          "output_type": "stream",
          "text": [
            "Train on 25000 samples, validate on 25000 samples\n",
            "Epoch 1/15\n",
            "25000/25000 [==============================] - 136s 5ms/step - loss: 0.3674 - accuracy: 0.8448 - val_loss: 0.3815 - val_accuracy: 0.8316\n",
            "Epoch 2/15\n",
            "25000/25000 [==============================] - 135s 5ms/step - loss: 0.2616 - accuracy: 0.8952 - val_loss: 0.4212 - val_accuracy: 0.8144\n",
            "Epoch 3/15\n",
            "25000/25000 [==============================] - 135s 5ms/step - loss: 0.1879 - accuracy: 0.9283 - val_loss: 0.4957 - val_accuracy: 0.8072\n",
            "Epoch 4/15\n",
            "25000/25000 [==============================] - 135s 5ms/step - loss: 0.1353 - accuracy: 0.9482 - val_loss: 0.5021 - val_accuracy: 0.8195\n",
            "Epoch 5/15\n",
            "25000/25000 [==============================] - 135s 5ms/step - loss: 0.1013 - accuracy: 0.9643 - val_loss: 0.5780 - val_accuracy: 0.8114\n",
            "Epoch 6/15\n",
            "25000/25000 [==============================] - 139s 6ms/step - loss: 0.0728 - accuracy: 0.9742 - val_loss: 0.6215 - val_accuracy: 0.8158\n",
            "Epoch 7/15\n",
            "25000/25000 [==============================] - 139s 6ms/step - loss: 0.0561 - accuracy: 0.9796 - val_loss: 0.7330 - val_accuracy: 0.8172\n",
            "Epoch 8/15\n",
            "25000/25000 [==============================] - 140s 6ms/step - loss: 0.0454 - accuracy: 0.9850 - val_loss: 0.7999 - val_accuracy: 0.8171\n",
            "Epoch 9/15\n",
            "25000/25000 [==============================] - 141s 6ms/step - loss: 0.0327 - accuracy: 0.9890 - val_loss: 0.9826 - val_accuracy: 0.8162\n",
            "Epoch 10/15\n",
            "25000/25000 [==============================] - 142s 6ms/step - loss: 0.0247 - accuracy: 0.9917 - val_loss: 0.9160 - val_accuracy: 0.8181\n",
            "Epoch 11/15\n",
            "25000/25000 [==============================] - 140s 6ms/step - loss: 0.0180 - accuracy: 0.9948 - val_loss: 0.9564 - val_accuracy: 0.8083\n",
            "Epoch 12/15\n",
            "25000/25000 [==============================] - 136s 5ms/step - loss: 0.0147 - accuracy: 0.9946 - val_loss: 1.1663 - val_accuracy: 0.7947\n",
            "Epoch 13/15\n",
            "25000/25000 [==============================] - 135s 5ms/step - loss: 0.0128 - accuracy: 0.9963 - val_loss: 1.1387 - val_accuracy: 0.8110\n",
            "Epoch 14/15\n",
            "25000/25000 [==============================] - 134s 5ms/step - loss: 0.0131 - accuracy: 0.9960 - val_loss: 1.1260 - val_accuracy: 0.8096\n",
            "Epoch 15/15\n",
            "25000/25000 [==============================] - 134s 5ms/step - loss: 0.0124 - accuracy: 0.9962 - val_loss: 1.0270 - val_accuracy: 0.8029\n",
            "25000/25000 [==============================] - 22s 870us/step\n",
            "Test Score : 1.0269526106858253\n",
            "Test Accuracy :  0.8029199838638306\n"
          ],
          "name": "stdout"
        }
      ]
    },
    {
      "cell_type": "code",
      "metadata": {
        "id": "jjwlG47RkSs9",
        "colab_type": "code",
        "colab": {}
      },
      "source": [
        "model.save(\"/content/drive/My Drive/BCA/imdb.h5\")"
      ],
      "execution_count": 0,
      "outputs": []
    },
    {
      "cell_type": "code",
      "metadata": {
        "id": "C-4r28eRvV48",
        "colab_type": "code",
        "colab": {}
      },
      "source": [
        ""
      ],
      "execution_count": 0,
      "outputs": []
    }
  ]
}