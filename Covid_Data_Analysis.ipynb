{
  "nbformat": 4,
  "nbformat_minor": 0,
  "metadata": {
    "colab": {
      "name": "Covid_Data_Analysis.ipynb",
      "provenance": [],
      "authorship_tag": "ABX9TyOJiT667yez+ObQihspUea8",
      "include_colab_link": true
    },
    "kernelspec": {
      "name": "python3",
      "display_name": "Python 3"
    }
  },
  "cells": [
    {
      "cell_type": "markdown",
      "metadata": {
        "id": "view-in-github",
        "colab_type": "text"
      },
      "source": [
        "<a href=\"https://colab.research.google.com/github/amantiwari1/Notebook_List/blob/master/Covid_Data_Analysis.ipynb\" target=\"_parent\"><img src=\"https://colab.research.google.com/assets/colab-badge.svg\" alt=\"Open In Colab\"/></a>"
      ]
    },
    {
      "cell_type": "code",
      "metadata": {
        "id": "LvykCn4Puefw",
        "colab_type": "code",
        "colab": {}
      },
      "source": [
        "import pandas as pd\n",
        "Confirmed = pd.read_csv(\"https://raw.githubusercontent.com/CSSEGISandData/COVID-19/master/csse_covid_19_data/csse_covid_19_time_series/time_series_covid19_confirmed_global.csv\")\n",
        "Death = pd.read_csv(\"https://github.com/CSSEGISandData/COVID-19/raw/master/csse_covid_19_data/csse_covid_19_time_series/time_series_covid19_deaths_global.csv\")\n",
        "Recovered = pd.read_csv(\"https://github.com/CSSEGISandData/COVID-19/raw/master/csse_covid_19_data/csse_covid_19_time_series/time_series_covid19_recovered_global.csv\")"
      ],
      "execution_count": 0,
      "outputs": []
    },
    {
      "cell_type": "code",
      "metadata": {
        "id": "Frvid7PYv07x",
        "colab_type": "code",
        "colab": {}
      },
      "source": [
        "Confirmed_date = pd.DataFrame(Confirmed.sum()[2:])\n",
        "Death_date = pd.DataFrame(Death.sum()[2:])\n",
        "Recovered_date = pd.DataFrame(Recovered.sum()[2:])\n"
      ],
      "execution_count": 0,
      "outputs": []
    },
    {
      "cell_type": "code",
      "metadata": {
        "id": "rdjgdynozb8I",
        "colab_type": "code",
        "colab": {}
      },
      "source": [
        "Confirmed_date = Confirmed_date.reset_index()\n",
        "Death_date = Death_date.reset_index()\n",
        "Recovered_date = Recovered_date.reset_index()\n",
        "\n",
        "Confirmed_date.columns = [\"Date\", \"Total_Confirmed\"]\n",
        "Death_date.columns = [\"Date\", \"Total_Death\"]\n",
        "Recovered_date.columns = [\"Date\", \"Total_Recovered\"]"
      ],
      "execution_count": 0,
      "outputs": []
    },
    {
      "cell_type": "code",
      "metadata": {
        "id": "plMG9zpnzylU",
        "colab_type": "code",
        "colab": {}
      },
      "source": [
        "df = pd.merge(Confirmed_date,Death_date, on=\"Date\")\n",
        "df = pd.merge(df,Recovered_date, on=\"Date\")\n"
      ],
      "execution_count": 0,
      "outputs": []
    },
    {
      "cell_type": "code",
      "metadata": {
        "id": "76aBtOLb0dlh",
        "colab_type": "code",
        "colab": {
          "base_uri": "https://localhost:8080/",
          "height": 206
        },
        "outputId": "359059b2-4164-48cd-eeed-f0686b68cc73"
      },
      "source": [
        "df.head()"
      ],
      "execution_count": 84,
      "outputs": [
        {
          "output_type": "execute_result",
          "data": {
            "text/html": [
              "<div>\n",
              "<style scoped>\n",
              "    .dataframe tbody tr th:only-of-type {\n",
              "        vertical-align: middle;\n",
              "    }\n",
              "\n",
              "    .dataframe tbody tr th {\n",
              "        vertical-align: top;\n",
              "    }\n",
              "\n",
              "    .dataframe thead th {\n",
              "        text-align: right;\n",
              "    }\n",
              "</style>\n",
              "<table border=\"1\" class=\"dataframe\">\n",
              "  <thead>\n",
              "    <tr style=\"text-align: right;\">\n",
              "      <th></th>\n",
              "      <th>Date</th>\n",
              "      <th>Total_Confirmed</th>\n",
              "      <th>Total_Death</th>\n",
              "      <th>Total_Recovered</th>\n",
              "    </tr>\n",
              "  </thead>\n",
              "  <tbody>\n",
              "    <tr>\n",
              "      <th>0</th>\n",
              "      <td>1/22/20</td>\n",
              "      <td>555.0</td>\n",
              "      <td>17.0</td>\n",
              "      <td>28.0</td>\n",
              "    </tr>\n",
              "    <tr>\n",
              "      <th>1</th>\n",
              "      <td>1/23/20</td>\n",
              "      <td>654.0</td>\n",
              "      <td>18.0</td>\n",
              "      <td>30.0</td>\n",
              "    </tr>\n",
              "    <tr>\n",
              "      <th>2</th>\n",
              "      <td>1/24/20</td>\n",
              "      <td>941.0</td>\n",
              "      <td>26.0</td>\n",
              "      <td>36.0</td>\n",
              "    </tr>\n",
              "    <tr>\n",
              "      <th>3</th>\n",
              "      <td>1/25/20</td>\n",
              "      <td>1434.0</td>\n",
              "      <td>42.0</td>\n",
              "      <td>39.0</td>\n",
              "    </tr>\n",
              "    <tr>\n",
              "      <th>4</th>\n",
              "      <td>1/26/20</td>\n",
              "      <td>2118.0</td>\n",
              "      <td>56.0</td>\n",
              "      <td>52.0</td>\n",
              "    </tr>\n",
              "  </tbody>\n",
              "</table>\n",
              "</div>"
            ],
            "text/plain": [
              "      Date  Total_Confirmed  Total_Death  Total_Recovered\n",
              "0  1/22/20            555.0         17.0             28.0\n",
              "1  1/23/20            654.0         18.0             30.0\n",
              "2  1/24/20            941.0         26.0             36.0\n",
              "3  1/25/20           1434.0         42.0             39.0\n",
              "4  1/26/20           2118.0         56.0             52.0"
            ]
          },
          "metadata": {
            "tags": []
          },
          "execution_count": 84
        }
      ]
    },
    {
      "cell_type": "code",
      "metadata": {
        "id": "c67Qa39rDIT8",
        "colab_type": "code",
        "colab": {}
      },
      "source": [
        "date = df[\"Date\"]\n",
        "confirmed = df[\"Total_Confirmed\"]\n",
        "death = df[\"Total_Death\"]\n",
        "recovered = df[\"Total_Recovered\"]\n"
      ],
      "execution_count": 0,
      "outputs": []
    },
    {
      "cell_type": "code",
      "metadata": {
        "id": "U9sVJauE0J-V",
        "colab_type": "code",
        "colab": {
          "base_uri": "https://localhost:8080/",
          "height": 403
        },
        "outputId": "4e53a39f-734c-43af-8bf4-9917db117d78"
      },
      "source": [
        "\n",
        "import matplotlib.pyplot as plt\n",
        "fig, ax = plt.subplots(figsize=(16,6))\n",
        "\n",
        "ax.plot(date,confirmed, marker='o', linestyle='dashed')\n",
        "ax.plot(date,death, marker='o', linestyle='dashed',c=\"r\")\n",
        "ax.plot(date,recovered, marker='o', linestyle='-',c=\"g\")\n",
        "\n",
        "\n",
        "plt.xticks(rotation=90)\n",
        "\n",
        "\n",
        "\n",
        "plt.show()\n",
        "\n"
      ],
      "execution_count": 112,
      "outputs": [
        {
          "output_type": "display_data",
          "data": {
            "image/png": "[encoded data removed]",
            "text/plain": [
              "<Figure size 1152x432 with 1 Axes>"
            ]
          },
          "metadata": {
            "tags": []
          }
        }
      ]
    },
    {
      "cell_type": "code",
      "metadata": {
        "id": "7N20T-mT28FT",
        "colab_type": "code",
        "colab": {}
      },
      "source": [
        ""
      ],
      "execution_count": 0,
      "outputs": []
    }
  ]
}