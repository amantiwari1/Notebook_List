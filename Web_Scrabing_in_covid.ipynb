{
  "nbformat": 4,
  "nbformat_minor": 0,
  "metadata": {
    "colab": {
      "name": "Web Scrabing in covid.ipynb",
      "provenance": [],
      "authorship_tag": "ABX9TyPWR3e4G8L84+aBE7/6SoF4",
      "include_colab_link": true
    },
    "kernelspec": {
      "name": "python3",
      "display_name": "Python 3"
    }
  },
  "cells": [
    {
      "cell_type": "markdown",
      "metadata": {
        "id": "view-in-github",
        "colab_type": "text"
      },
      "source": [
        "<a href=\"https://colab.research.google.com/github/amantiwari1/Notebook_List/blob/master/Web_Scrabing_in_covid.ipynb\" target=\"_parent\"><img src=\"https://colab.research.google.com/assets/colab-badge.svg\" alt=\"Open In Colab\"/></a>"
      ]
    },
    {
      "cell_type": "code",
      "metadata": {
        "id": "1iK7tm9W_cpo",
        "colab_type": "code",
        "colab": {}
      },
      "source": [
        "import requests\n",
        "from scrapy import Selector\n",
        "\n",
        "data = requests.get(\"https://www.worldometers.info/coronavirus/\").content\n",
        "sel = Selector(text = data)\n",
        "num_of_case = sel.css(\"#main_table_countries_today > tbody:nth-child(2) > tr > td:nth-child(2)::text\").extract()\n",
        "name_of_con = sel.css(\"#main_table_countries_today > tbody:nth-child(2) > tr >  td:nth-child(1) ::text\").extract()\n",
        "X = list(num_of_case)\n",
        "y = list(name_of_con)"
      ],
      "execution_count": 0,
      "outputs": []
    },
    {
      "cell_type": "code",
      "metadata": {
        "id": "o1_JMG4dRS9Y",
        "colab_type": "code",
        "colab": {}
      },
      "source": [
        "X = list(num_of_case)\n",
        "y = list(name_of_con)"
      ],
      "execution_count": 0,
      "outputs": []
    },
    {
      "cell_type": "code",
      "metadata": {
        "id": "r-DqC7k1TII4",
        "colab_type": "code",
        "colab": {}
      },
      "source": [
        "import pandas as pd\n",
        "\n",
        "df = pd.DataFrame(X,columns=[\"Confirmed_Case\"])"
      ],
      "execution_count": 0,
      "outputs": []
    },
    {
      "cell_type": "code",
      "metadata": {
        "id": "-aRkuYSlTaur",
        "colab_type": "code",
        "colab": {}
      },
      "source": [
        "df[\"Country\"] = y"
      ],
      "execution_count": 0,
      "outputs": []
    },
    {
      "cell_type": "code",
      "metadata": {
        "id": "vkwogMwNTbsi",
        "colab_type": "code",
        "colab": {}
      },
      "source": [
        "df = df[[\"Country\",\"Confirmed_Case\"]]"
      ],
      "execution_count": 0,
      "outputs": []
    },
    {
      "cell_type": "code",
      "metadata": {
        "id": "GUoxQjXTWhR3",
        "colab_type": "code",
        "colab": {}
      },
      "source": [
        "df[\"Confirmed_Case\"] = df[\"Confirmed_Case\"].str.replace(\",\",\"\").astype(\"int64\")"
      ],
      "execution_count": 0,
      "outputs": []
    },
    {
      "cell_type": "code",
      "metadata": {
        "id": "U7SaeijPX9Nx",
        "colab_type": "code",
        "colab": {}
      },
      "source": [
        "df = df.sort_values(by=\"Confirmed_Case\", ascending=False)"
      ],
      "execution_count": 0,
      "outputs": []
    },
    {
      "cell_type": "code",
      "metadata": {
        "id": "mS-pKFqvYTat",
        "colab_type": "code",
        "colab": {
          "base_uri": "https://localhost:8080/",
          "height": 206
        },
        "outputId": "f7a5949a-a77a-47e4-83de-809ec1b5a858"
      },
      "source": [
        "df.head()"
      ],
      "execution_count": 8,
      "outputs": [
        {
          "output_type": "execute_result",
          "data": {
            "text/html": [
              "<div>\n",
              "<style scoped>\n",
              "    .dataframe tbody tr th:only-of-type {\n",
              "        vertical-align: middle;\n",
              "    }\n",
              "\n",
              "    .dataframe tbody tr th {\n",
              "        vertical-align: top;\n",
              "    }\n",
              "\n",
              "    .dataframe thead th {\n",
              "        text-align: right;\n",
              "    }\n",
              "</style>\n",
              "<table border=\"1\" class=\"dataframe\">\n",
              "  <thead>\n",
              "    <tr style=\"text-align: right;\">\n",
              "      <th></th>\n",
              "      <th>Country</th>\n",
              "      <th>Confirmed_Case</th>\n",
              "    </tr>\n",
              "  </thead>\n",
              "  <tbody>\n",
              "    <tr>\n",
              "      <th>0</th>\n",
              "      <td>USA</td>\n",
              "      <td>141169</td>\n",
              "    </tr>\n",
              "    <tr>\n",
              "      <th>1</th>\n",
              "      <td>Italy</td>\n",
              "      <td>97689</td>\n",
              "    </tr>\n",
              "    <tr>\n",
              "      <th>200</th>\n",
              "      <td>China</td>\n",
              "      <td>81439</td>\n",
              "    </tr>\n",
              "    <tr>\n",
              "      <th>2</th>\n",
              "      <td>Spain</td>\n",
              "      <td>80110</td>\n",
              "    </tr>\n",
              "    <tr>\n",
              "      <th>3</th>\n",
              "      <td>Germany</td>\n",
              "      <td>62095</td>\n",
              "    </tr>\n",
              "  </tbody>\n",
              "</table>\n",
              "</div>"
            ],
            "text/plain": [
              "     Country  Confirmed_Case\n",
              "0        USA          141169\n",
              "1      Italy           97689\n",
              "200    China           81439\n",
              "2      Spain           80110\n",
              "3    Germany           62095"
            ]
          },
          "metadata": {
            "tags": []
          },
          "execution_count": 8
        }
      ]
    },
    {
      "cell_type": "code",
      "metadata": {
        "id": "9m0qc09FYwxp",
        "colab_type": "code",
        "colab": {
          "base_uri": "https://localhost:8080/",
          "height": 330
        },
        "outputId": "9a3d3dc7-1983-4198-98c3-5e40d712f9be"
      },
      "source": [
        "import matplotlib.pyplot as plt\n",
        "\n",
        "import seaborn as sns\n",
        "sns.set_style(style = \"darkgrid\")\n",
        "\n",
        "g = sns.barplot(x=\"Country\", y=\"Confirmed_Case\", data = df[:20])\n",
        "g.set_xticklabels(labels=g.get_xticklabels(), rotation=90)\n",
        "plt.show()\n"
      ],
      "execution_count": 9,
      "outputs": [
        {
          "output_type": "display_data",
          "data": {
            "image/png": "[encoded data removed]",
            "text/plain": [
              "<Figure size 432x288 with 1 Axes>"
            ]
          },
          "metadata": {
            "tags": []
          }
        }
      ]
    }
  ]
}